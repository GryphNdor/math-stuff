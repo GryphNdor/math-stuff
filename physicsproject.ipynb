{
 "metadata": {
  "language_info": {
   "codemirror_mode": {
    "name": "ipython",
    "version": 3
   },
   "file_extension": ".py",
   "mimetype": "text/x-python",
   "name": "python",
   "nbconvert_exporter": "python",
   "pygments_lexer": "ipython3",
   "version": "3.8.1-final"
  },
  "orig_nbformat": 2,
  "kernelspec": {
   "name": "python3",
   "display_name": "Python 3.8.1 64-bit",
   "metadata": {
    "interpreter": {
     "hash": "aee8b7b246df8f9039afb4144a1f6fd8d2ca17a180786b69acc140d282b71a49"
    }
   }
  }
 },
 "nbformat": 4,
 "nbformat_minor": 2,
 "cells": [
  {
   "source": [
    "## Determining Rotational Inertia"
   ],
   "cell_type": "markdown",
   "metadata": {}
  },
  {
   "source": [
    "### Formulas used:\n",
    "\n",
    "Conservation of Energy Equation\n",
    ">mgh = 1/2*m*V<sup>2</sup> + 1/2*I*w<sup>2</sup>\n",
    "\n",
    "Angular Conversion\n",
    "> v = wr\n",
    "\n",
    "Pythagorean Theorem\n",
    "> x<sup>2</sup> + y<sup>2</sup> = z<sup>2</sup>\n"
   ],
   "cell_type": "markdown",
   "metadata": {}
  },
  {
   "source": [
    "### Materials\n",
    "- Chapstick\n",
    "- Book\n",
    "- Collection of Books Case\n",
    "- Ruler\n",
    "- Camera\n",
    "- Veiner Video Analysis"
   ],
   "cell_type": "markdown",
   "metadata": {}
  },
  {
   "source": [],
   "cell_type": "markdown",
   "metadata": {}
  },
  {
   "source": [
    "### The Process\n",
    "\n",
    "1. Measure the top of the chapstick top to get the radius\n",
    "2. Prop the book onto the case so that is forms a ramp\n",
    "2. Measure the ramp's height\n",
    "2. Place the ruler down in front of the ramp to create a reference\n",
    "3. Set the camera up so that it faces the ramp\n",
    "4. Press record on the camera\n",
    "5. Place the chapstick at the top of the ramp, so that it rolls down\n",
    "6. Take the video and run it through Veiner Video Analysis\n",
    "7. Record the x and y velocity and run it through the Pythagorean Theorem to get the velocity\n",
    "8. Divide the velocity by the radius to get the angular velocity\n",
    "9. Plug the variables into the formula\n"
   ],
   "cell_type": "markdown",
   "metadata": {}
  },
  {
   "source": [
    "### Solving for I\n",
    "Metrics:\n",
    "- Mass => kg\n",
    "- Distance => m\n",
    "- Velocity => m/s\n",
    "- Angular Velocity => rad/s"
   ],
   "cell_type": "markdown",
   "metadata": {}
  },
  {
   "source": [
    "### Results of Veiner\n",
    "| VelocityX | | | | VelocityY |\n",
    "| :-: | :-: | :-: | :-: | :-: |\n",
    "| 0.0812667894  |  |  |  | \\-0.02649419715  |\n",
    "| 0.08032399951 |  |  |  | \\-0.02428257167  |\n",
    "| 0.08862224922 |  |  |  | \\-0.02721233828  |\n",
    "| 0.1205355453  |  |  |  | \\-0.06287133018  |\n",
    "| 0.1799058272  |  |  |  | \\-0.1045835495   |\n",
    "| 0.2582961166  |  |  |  | \\-0.1349459674   |\n",
    "| 0.3242404469  |  |  |  | \\-0.1653367032   |\n",
    "| 0.4001449419  |  |  |  | \\-0.2087876396   |\n",
    "| 0.4750981534  |  |  |  | \\-0.2321725349   |\n",
    "| 0.5137440451  |  |  |  | \\-0.2348910502   |\n",
    "| 0.5369542297  |  |  |  | \\-0.1711871747   |\n",
    "| 0.5604588592  |  |  |  | \\-0.04424950029  |\n",
    "| 0.5424637466  |  |  |  | \\-0.02631862637  |\n",
    "| 0.4880140917  |  |  |  | \\-0.04484983909  |\n",
    "| 0.4535980141  |  |  |  | \\-0.02081929644  |\n",
    "| 0.4321884732  |  |  |  | \\-0.03784399858  |\n",
    "| 0.4352914693  |  |  |  | \\-0.04504240059  |\n",
    "| 0.432692427   |  |  |  | \\-0.009010745547 |\n",
    "| 0.3988199399  |  |  |  | 0.001806679968   |\n",
    "| 0.3717026981  |  |  |  | 0.0004417587383  |\n",
    "| 0.3618557815  |  |  |  | \\-0.005725872878 |\n",
    "| 0.351516236   |  |  |  | \\-0.008971100532 |\n",
    "| 0.3383341648  |  |  |  | \\-0.007906348702 |\n",
    "| 0.3084649958  |  |  |  | \\-0.005335086301 |\n",
    "| 0.2727975274  |  |  |  | 0.01043230251    |\n",
    "| 0.2533358527  |  |  |  | 0.01942039377    |\n",
    "| 0.2433643633  |  |  |  | 0.01500280638    |\n",
    "| 0.2324132783  |  |  |  | 0.006722661826   |\n",
    "| 0.2092540553  |  |  |  | 0.004547849575   |\n",
    "| 0.1726919275  |  |  |  | 0.001591464173   |\n",
    "| 0.1466675292  |  |  |  | 0.0009174989181  |\n",
    "| 0.1406483962  |  |  |  | 0.001381911951   |\n",
    "| 0.128647502   |  |  |  | \\-0.00429185605  |\n",
    "| 0.1079621823  |  |  |  | \\-0.003746453916 |\n",
    "| 0.09173090776 |  |  |  | 0.0004417587384  |\n",
    "\n",
    "\n",
    "Average VelocityX: 0.3009727647 m/s  \n",
    "Average VelocityY: -0.04554768844 m/s"
   ],
   "cell_type": "markdown",
   "metadata": {}
  },
  {
   "cell_type": "code",
   "execution_count": 8,
   "metadata": {},
   "outputs": [
    {
     "output_type": "execute_result",
     "data": {
      "text/plain": [
       "'The Rotational Inertia of this object is 0.00026617293620767704 kg*m^2'"
      ]
     },
     "metadata": {},
     "execution_count": 8
    }
   ],
   "source": [
    "import math\n",
    "\n",
    "mass = .00425 #(4.25g)\n",
    "height = .055 #(5.5cm)\n",
    "radius = .075 #(.75cm)\n",
    "gravity = 9.8\n",
    "\n",
    "velocityX = .3009727647\n",
    "velocityY = -0.04554768844\n",
    "\n",
    "velocity = math.sqrt(math.pow(velocityX,2) + math.pow(velocityY,2))\n",
    "\n",
    "w = velocity/radius\n",
    "\n",
    "# Algebraic Gymnastics to isolate I\n",
    "I = ((2*mass*gravity*height) - .5*mass*math.pow(velocity,2))/math.pow(w,2)\n",
    "\n",
    "f'The Rotational Inertia of this object is {I} kg*m^2'"
   ]
  },
  {
   "cell_type": "code",
   "execution_count": null,
   "metadata": {},
   "outputs": [],
   "source": []
  }
 ]
}