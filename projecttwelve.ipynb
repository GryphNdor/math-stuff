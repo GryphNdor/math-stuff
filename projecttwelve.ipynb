{
 "metadata": {
  "language_info": {
   "codemirror_mode": {
    "name": "ipython",
    "version": 3
   },
   "file_extension": ".py",
   "mimetype": "text/x-python",
   "name": "python",
   "nbconvert_exporter": "python",
   "pygments_lexer": "ipython3",
   "version": "3.8.1-final"
  },
  "orig_nbformat": 2,
  "kernelspec": {
   "name": "python3",
   "display_name": "Python 3",
   "language": "python"
  }
 },
 "nbformat": 4,
 "nbformat_minor": 2,
 "cells": [
  {
   "cell_type": "code",
   "execution_count": 33,
   "metadata": {},
   "outputs": [
    {
     "output_type": "stream",
     "name": "stdout",
     "text": [
      "-0.9116116523516815\n-1.0883883476483185\n-0.9116116523516815\n-1.0\n-1.0\n-1.0\n-1.0\n-1.0\n-1.0\n"
     ]
    }
   ],
   "source": [
    "import math\n",
    "\n",
    "points = [(math.pi/2,0),(math.pi/2,2*math.pi),(math.pi/2,4*math.pi),(2*math.pi,0),(2*math.pi,2*math.pi),(2*math.pi,4*math.pi),(4*math.pi,0),(4*math.pi,2*math.pi),(4*math.pi, 4*math.pi)]\n",
    "\n",
    "def getExtrema(x,y):\n",
    "    return -.5*math.sin(.5*x) * (-.25)*math.cos(.5*y) - 1\n",
    "\n",
    "for i in points:\n",
    "    print(getExtrema(i[0],i[1]))\n"
   ]
  }
 ]
}