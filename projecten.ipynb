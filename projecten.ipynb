{
 "metadata": {
  "language_info": {
   "codemirror_mode": {
    "name": "ipython",
    "version": 3
   },
   "file_extension": ".py",
   "mimetype": "text/x-python",
   "name": "python",
   "nbconvert_exporter": "python",
   "pygments_lexer": "ipython3",
   "version": "3.8.1-final"
  },
  "orig_nbformat": 2,
  "kernelspec": {
   "name": "python3",
   "display_name": "Python 3",
   "language": "python"
  }
 },
 "nbformat": 4,
 "nbformat_minor": 2,
 "cells": [
  {
   "source": [
    "# Project 10"
   ],
   "cell_type": "markdown",
   "metadata": {}
  },
  {
   "source": [
    "## Work"
   ],
   "cell_type": "markdown",
   "metadata": {}
  },
  {
   "cell_type": "code",
   "execution_count": 13,
   "metadata": {},
   "outputs": [],
   "source": [
    "import math\n",
    "\n",
    "class Point:\n",
    "    def __init__(self, x, y, z):\n",
    "        self.x = x\n",
    "        self.y = y\n",
    "        self.z = z    \n",
    "\n",
    "class Plane:\n",
    "    def __init__(self, x, y):\n",
    "        self.x = x\n",
    "        self.y = y\n",
    "    #Partial derived from z = √(-(x^2)-(y^2)+(6371^2))\n",
    "    def getPartialX(self):\n",
    "        return (-self.x)/(math.sqrt(-(self.x**2)-(self.y**2)+(6371**2)))\n",
    "\n",
    "    def getPartialY(self):\n",
    "        return (-self.y)/(math.sqrt(-(self.x**2)-(self.y**2)+(6371**2)))\n",
    "\n",
    "def inv_eleven_formula(a, b, c, x0, y0, z0, x1, y1, z1):\n",
    "    #Normal Vector of Plane: 1069.652846, -4840.760916, 4001.564388\n",
    "    d = - (a*x0) - (b*y0) - (c*z0)\n",
    "    return abs((a*x1) + (b*y1) + (c*z1) + d) / math.sqrt((a**2) + (b**2) + (c**2))\n",
    "\n",
    "def distance_formula(point1, point2):\n",
    "    return math.sqrt((point1.x - point2.x)**2 + (point1.y - point2.y)**2 + (point1.z - point2.z)**2 )\n",
    "\n",
    "def solve_for_t(a, b, c, x0, y0, z0, x, y, z):\n",
    "    return (a*(x0 - x) + b*(y0 - y) + c*(z0 - z))/ (a**2+ b**2 +c**2)\n",
    "\n",
    "def solve_for_point_d(point1, a, b, c, t):\n",
    "    x = point1.x + a*t\n",
    "    y = point1.y + b*t\n",
    "    z = point1.z + c*t\n",
    "    return Point(x, y, z)\n",
    "\n",
    "def solve_dot_product(point1, point2):\n",
    "    return math.acos((point1.x*point2.x + point1.y*point2.y + point1.z*point2.z)/(math.sqrt(point1.x**2 + point1.y**2 + point1.z**2) * math.sqrt(point2.x**2 + point2.y**2 + point2.z**2)))"
   ]
  },
  {
   "source": [
    "## Plugging in Points"
   ],
   "cell_type": "markdown",
   "metadata": {}
  },
  {
   "cell_type": "code",
   "execution_count": 14,
   "metadata": {},
   "outputs": [],
   "source": [
    "\n",
    "# x: 1071.0797303159\n",
    "# y: -4840.2108444960\n",
    "# z: 4001.8480970834\n",
    "\n",
    "# x: 1070.9567941589\n",
    "# y: -4840.536332921\n",
    "# z: 4001.4872928340\n",
    "\n",
    "\n",
    "# a = Point(1070.9567941589,-4840.536332921,4001.4872928340)\n",
    "# b = Point(1071.0797303159,-4840.2108444960,4001.8480970834)\n",
    "\n",
    "b = Point(1070.098097,-4840.565896,4001.681256)\n",
    "a = Point(1071.0468,-4840.141338,4001.940977)\n",
    "\n",
    "tangent = Plane(a.x,a.y)\n",
    "tangentSlopeX = tangent.getPartialX()\n",
    "tangentSlopeY = tangent.getPartialY()\n",
    "\n",
    "dist = distance_formula(a,b)\n",
    "\n",
    "b_to_plane = inv_eleven_formula(-tangentSlopeX, -tangentSlopeY, 1, a.x, a.y, a.z, b.x, b.y, b.z)\n",
    "\n",
    "t = solve_for_t(-tangentSlopeX, -tangentSlopeY, 1, a.x, a.y, a.z, b.x, b.y, b.z)\n",
    "\n",
    "d = solve_for_point_d(b, -tangentSlopeX, -tangentSlopeY, 1, t)\n",
    "dot_prod = solve_dot_product(a,b)"
   ]
  },
  {
   "cell_type": "code",
   "execution_count": 15,
   "metadata": {},
   "outputs": [
    {
     "output_type": "stream",
     "name": "stdout",
     "text": [
      "Point A: 1071.0468,-4840.141338,4001.940977\nPoint B: 1070.098097,-4840.565896,4001.681256\nPartial X: -0.26763183321687944\nPartial Y: 1.2094484567039832\nDistance Formula: 1.0713271561077777 km\nInvestigation 11 Formula: 8.989146482067526e-05 km\nRatio: 8.39066426237701e-05\nT-Value: 5.646528515876471e-05\nPoint D: (1070.0981121119078, -4840.565964291852, 4001.681312465285)\nDistance B to D: 8.989146332169454e-05 km\nDot Product:0.0001681568286836896\nCircumfrence of the Earth:40030.1736131147 km\n"
     ]
    }
   ],
   "source": [
    "print(f'Point A: {a.x},{a.y},{a.z}')\n",
    "print(f'Point B: {b.x},{b.y},{b.z}')\n",
    "\n",
    "print(f'Partial X: {tangent.getPartialX()}')\n",
    "print(f'Partial Y: {tangent.getPartialY()}')\n",
    "\n",
    "print(f'Distance Formula: {dist} km')\n",
    "\n",
    "print(f'Investigation 11 Formula: {b_to_plane} km')\n",
    "\n",
    "print(f'Ratio: {b_to_plane/dist}')\n",
    "\n",
    "print(f'T-Value: {t}')\n",
    "\n",
    "print(f'Point D: ({d.x}, {d.y}, {d.z})')\n",
    "\n",
    "print(f'Distance B to D: {distance_formula(b,d)} km')\n",
    "\n",
    "print(f'Dot Product:{dot_prod}')\n",
    "\n",
    "print(f'Circumfrence of the Earth:{(dist*2*math.pi)/dot_prod} km')"
   ]
  }
 ]
}