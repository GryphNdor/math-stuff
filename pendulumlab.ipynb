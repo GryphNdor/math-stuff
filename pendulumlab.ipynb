{
 "metadata": {
  "language_info": {
   "codemirror_mode": {
    "name": "ipython",
    "version": 3
   },
   "file_extension": ".py",
   "mimetype": "text/x-python",
   "name": "python",
   "nbconvert_exporter": "python",
   "pygments_lexer": "ipython3",
   "version": "3.8.1-final"
  },
  "orig_nbformat": 2,
  "kernelspec": {
   "name": "python381jvsc74a57bd0911202e65d5694df5855d375979bf7bee9598212460baed1b754361f8d10f164",
   "display_name": "Python 3.8.1 64-bit ('pltw')"
  }
 },
 "nbformat": 4,
 "nbformat_minor": 2,
 "cells": [
  {
   "source": [
    "### Materials\n",
    "\n",
    "- A pair of Apple Earbuds\n",
    "- Ruler\n",
    "- Stopwatch\n",
    "- Camera\n",
    "- Something to hang the pendulum off of (a desk for me)"
   ],
   "cell_type": "markdown",
   "metadata": {}
  },
  {
   "source": [
    "### Procedures\n",
    "\n",
    "1. Set up the pendulum\n",
    "1. Measure the length of the pedulum\n",
    "2. Pull the pendulum back and measure the angle\n",
    "3. Start the timer and simultaneously let go of the pendulum\n",
    "4. Record the time when the pendulum swings from the starting position to the other side and back again\n",
    "5. Average the recorded times\n",
    "5. Repeat the process but change the angle\n",
    "6. Use the formula 'T = 2π√(l/g)' and rearrange for g\n",
    "7. Calculate the percentage error of the experimental equation and the actual value of g (9.8 m/s^2)\n"
   ],
   "cell_type": "markdown",
   "metadata": {}
  },
  {
   "cell_type": "code",
   "execution_count": 25,
   "metadata": {},
   "outputs": [
    {
     "output_type": "stream",
     "name": "stdout",
     "text": [
      "average period for dataset 1: 0.48499999999999993 seconds\npercent error for dataset 1: 28.28054692751681%\nestimated gravity for dataset 1: 7.028506401103353 m/s^2\n\naverage period for dataset 2: 2.0866666666666664 seconds\npercent error for dataset 2: 7.481729841442722%\nestimated gravity for dataset 2: 9.066790475538614 m/s^2\n\naverage period for dataset 3: 2.0866666666666664 seconds\npercent error for dataset 3: 2.244413607990731%\nestimated gravity for dataset 3: 9.580047466416909 m/s^2\n\naverage period for dataset 4: 2.02 seconds\npercent error for dataset 4: 1.2741407796218893%\nestimated gravity for dataset 4: 9.675134203597056 m/s^2\n"
     ]
    }
   ],
   "source": [
    "import math\n",
    "\n",
    "t1 = [2.35, 4.75-2.35, 7.09-4.75, 9.46-7.09, 11.83-9.46, 14.22-11.83] #90 degree angle\n",
    "t2 = [2.08, 4.15-2.08, 6.22-4.15, 8.33-6.22, 10.42-8.33, 12.52-10.42] #45 degree angle\n",
    "t3 = [2.05, 4.03-2.05, 6.07-4.03, 8.11-6.07, 10.14-8.11, 12.18-10.14] #25 degree angle\n",
    "t4 = [1.83, 4.10-1.83, 6.12-4.10, 8.02-6.12, 9.99-8.02, 12.12-9.99] #2 degree angle\n",
    "\n",
    "L = 1 #meter\n",
    "\n",
    "#Average time of t1\n",
    "avgT1 = 0\n",
    "avgT2 = 0 \n",
    "avgT3 = 0\n",
    "avgT4 = 0\n",
    "for i in t1:\n",
    "    avgT1 += i\n",
    "avgT1 = avgT1/len(t1)\n",
    "\n",
    "\n",
    "for i in t2:\n",
    "    avgT2 += i\n",
    "avgT2 = avgT2/len(t2)\n",
    "\n",
    "\n",
    "for i in t3:\n",
    "    avgT3 += i\n",
    "avgT3 = avgT3/len(t3)\n",
    "\n",
    "for i in t4:\n",
    "    avgT4 += i\n",
    "avgT4 = avgT4/len(t4)\n",
    "\n",
    "#Percent Error\n",
    "real_g = 9.8\n",
    "\n",
    "# Formula\n",
    "g = L/pow(avgT1/(2*math.pi),2)\n",
    "percent_err = abs((g - real_g)/ real_g) * 100\n",
    "print(\"average period for dataset 1: {} seconds\".format(avgT))\n",
    "print(\"percent error for dataset 1: {}%\".format(percent_err))\n",
    "print(\"estimated gravity for dataset 1: {} m/s^2\\n\".format(g))\n",
    "\n",
    "g = L/(pow(avgT2/(2*math.pi),2))\n",
    "percent_err = abs((g - real_g)/ real_g) * 100\n",
    "print(\"average period for dataset 2: {} seconds\".format(avgT2))\n",
    "print(\"percent error for dataset 2: {}%\".format(percent_err))\n",
    "print(\"estimated gravity for dataset 2: {} m/s^2\\n\".format(g))\n",
    "\n",
    "g = L/(pow(avgT3/(2*math.pi),2))\n",
    "percent_err = abs((g - real_g)/ real_g) * 100\n",
    "print(\"average period for dataset 3: {} seconds\".format(avgT2))\n",
    "print(\"percent error for dataset 3: {}%\".format(percent_err))\n",
    "print(\"estimated gravity for dataset 3: {} m/s^2\\n\".format(g))\n",
    "\n",
    "g = L/(pow(avgT4/(2*math.pi),2))\n",
    "percent_err = abs((g - real_g)/ real_g) * 100\n",
    "print(\"average period for dataset 4: {} seconds\".format(avgT4))\n",
    "print(\"percent error for dataset 4: {}%\".format(percent_err))\n",
    "print(\"estimated gravity for dataset 4: {} m/s^2\".format(g))\n",
    "\n",
    "\n",
    "\n",
    "\n",
    "\n"
   ]
  },
  {
   "source": [
    "### Conclusion\n",
    "\n",
    "#### Claim: \n",
    "The closest average acceleration of gravity is __9.675134203597056 m/s^2__ which was when the angle was the smallest at 2º or 0.0349066rad. However when the angle was increased to 90º or π/2 rad the period formula began to break down and gave answer that had a ≈28% error rate. Therefore the pendulum period formula does not provide good support for the gravitational acceleration\n",
    "\n",
    "#### Reasoning:\n",
    "The percent error of pendulum was off by ≈28% at 90º which is the worst case scenario when it comes to justifying the gravitional effect on the pendulum. This is due to the fact that the angle in which the pendulum is dropped is not taken into consideration when doing the calculations. With the period of oscillation being modeled by a sine curve, with an increasing angle the oscillation time spikes exponentially past a certain point. This point is known as the small angle approximation and is __Θ << 1rad__ which is about .1rad or 6º according to Wikipedia. \n",
    "\n",
    "In order to incorporate the angle into the equation for an actual pendulum, I would need to use the differential equation:\n",
    "```d^2Θ/dt^2 + (g/l)*sinΘ = 0```\n",
    "Which is derived from the force equation `F = ma`, `a = -g*sinΘ` ,and `s = lΘ` which is linear acceleration. Then take the double derivative of linear acceleration and set that equal to `a = -g*sinΘ` which yields the differential equation ```d^2Θ/dt^2 + (g/l)*sinΘ = 0```\n",
    "\n",
    "#### Sources\n",
    "- https://www.math24.net/nonlinear-pendulum (in this case they solved using inertia)\n",
    "- https://en.wikipedia.org/wiki/Pendulum_(mathematics)\n",
    "- https://en.wikipedia.org/wiki/Pendulum\n",
    "- https://www.acs.psu.edu/drussell/Demos/Pendulum/Pendula.html\n",
    "\n",
    "\n",
    "\n"
   ],
   "cell_type": "markdown",
   "metadata": {}
  }
 ]
}