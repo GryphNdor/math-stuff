{
 "metadata": {
  "language_info": {
   "codemirror_mode": {
    "name": "ipython",
    "version": 3
   },
   "file_extension": ".py",
   "mimetype": "text/x-python",
   "name": "python",
   "nbconvert_exporter": "python",
   "pygments_lexer": "ipython3",
   "version": "3.8.1-final"
  },
  "orig_nbformat": 2,
  "kernelspec": {
   "name": "python381jvsc74a57bd0911202e65d5694df5855d375979bf7bee9598212460baed1b754361f8d10f164",
   "display_name": "Python 3.8.1 64-bit ('pltw')"
  }
 },
 "nbformat": 4,
 "nbformat_minor": 2,
 "cells": [
  {
   "source": [
    "### Constants"
   ],
   "cell_type": "markdown",
   "metadata": {}
  },
  {
   "cell_type": "code",
   "execution_count": 7,
   "metadata": {},
   "outputs": [],
   "source": [
    "A = .54\n",
    "B = 1486\n",
    "C = 6519\n",
    "\n",
    "G = 6.67 * pow(10,-11)"
   ]
  },
  {
   "source": [
    "### Question 1\n",
    "\n"
   ],
   "cell_type": "markdown",
   "metadata": {}
  },
  {
   "cell_type": "code",
   "execution_count": 8,
   "metadata": {},
   "outputs": [
    {
     "output_type": "stream",
     "name": "stdout",
     "text": [
      "6.67e-09 1.2826923076923074e-08\ny\n-1.3339999999999999e-08 -2.4703703703703702e-08\nx\n-6.669999999999999e-09 -1.1876780626780628e-08\nx\n"
     ]
    }
   ],
   "source": [
    "import math\n",
    "\n",
    "M = 100\n",
    "R = 500\n",
    "Mstar = 1000\n",
    "\n",
    "# Kinetic\n",
    "\n",
    "v1 = math.sqrt((Mstar*G)/R)\n",
    "v2 = math.sqrt((Mstar*G)/(.52 * R))\n",
    "\n",
    "Kx = (1/2) * M * pow(v1,2)\n",
    "Ky = (1/2) * M * pow(v2,2)\n",
    "\n",
    "print(Kx, Ky)\n",
    "\n",
    "print(\"x\" if Kx > Ky else \"y\")\n",
    "\n",
    "# Potential\n",
    "\n",
    "Ux = -((G * Mstar * M)/R)\n",
    "Uy = -((G * Mstar * M)/(.54*R))\n",
    "\n",
    "print(Ux, Uy)\n",
    "\n",
    "print(\"x\" if Ux > Uy else \"y\")\n",
    "\n",
    "# Total Mechanical\n",
    "\n",
    "total_x = Kx + Ux\n",
    "total_y = Ky + Uy\n",
    "\n",
    "print(total_x, total_y)\n",
    "\n",
    "print(\"x\" if total_x > total_y else \"y\")"
   ]
  },
  {
   "source": [
    "### Question 2"
   ],
   "cell_type": "markdown",
   "metadata": {}
  },
  {
   "cell_type": "code",
   "execution_count": 9,
   "metadata": {},
   "outputs": [
    {
     "output_type": "stream",
     "name": "stdout",
     "text": [
      "True\n"
     ]
    }
   ],
   "source": [
    "Me = 5000\n",
    "Re = 6371\n",
    "\n",
    "g = (G*Me)/pow(Re,2)\n",
    "\n",
    "Mp = A*Me\n",
    "Rp = A*Re\n",
    "\n",
    "a = (G*Mp)/pow(Rp,2)\n",
    "\n",
    "print(a == (.54/pow(.54,2))*g)"
   ]
  },
  {
   "source": [
    "### Question 3"
   ],
   "cell_type": "markdown",
   "metadata": {}
  },
  {
   "cell_type": "code",
   "execution_count": 10,
   "metadata": {},
   "outputs": [
    {
     "output_type": "stream",
     "name": "stdout",
     "text": [
      "63.81991768545852\n"
     ]
    }
   ],
   "source": [
    "R = B*1000 + (500*1000)\n",
    "\n",
    "Fg1 = 100\n",
    "\n",
    "m1_m2 = (Fg1*pow(R,2))/G\n",
    "\n",
    "Fg2 = (G*m1_m2)/(pow((R+(500*1000)),2))\n",
    "\n",
    "print(Fg2)"
   ]
  },
  {
   "source": [
    "### Question 4"
   ],
   "cell_type": "markdown",
   "metadata": {}
  },
  {
   "cell_type": "code",
   "execution_count": 11,
   "metadata": {},
   "outputs": [
    {
     "output_type": "stream",
     "name": "stdout",
     "text": [
      "2.237212103740862e+22\n"
     ]
    }
   ],
   "source": [
    "dist_1 = C*1000\n",
    "dist_2 = (C-B)*1000\n",
    "\n",
    "v1 = 136\n",
    "v2 = 392\n",
    "\n",
    "a1 = pow(v1,2)/dist_1\n",
    "a2 = pow(v2,2)/dist_2\n",
    "\n",
    "top = (1/2)*(pow(v2,2) - pow(v1,2))\n",
    "bottom = G*((1/dist_2) - (1/dist_1))\n",
    "\n",
    "print(top/bottom)"
   ]
  },
  {
   "source": [
    "### Question 5"
   ],
   "cell_type": "markdown",
   "metadata": {}
  },
  {
   "cell_type": "code",
   "execution_count": 12,
   "metadata": {},
   "outputs": [
    {
     "output_type": "error",
     "ename": "NameError",
     "evalue": "name 'radius_of_mars' is not defined",
     "traceback": [
      "\u001b[0;31m---------------------------------------------------------------------------\u001b[0m",
      "\u001b[0;31mNameError\u001b[0m                                 Traceback (most recent call last)",
      "\u001b[0;32m<ipython-input-12-4c0868b44e3c>\u001b[0m in \u001b[0;36m<module>\u001b[0;34m\u001b[0m\n\u001b[1;32m      3\u001b[0m \u001b[0mR\u001b[0m \u001b[0;34m=\u001b[0m \u001b[0;34m(\u001b[0m\u001b[0;36m2106.1\u001b[0m \u001b[0;34m*\u001b[0m \u001b[0;36m1.60934\u001b[0m\u001b[0;34m)\u001b[0m\u001b[0;34m*\u001b[0m\u001b[0;36m1000\u001b[0m \u001b[0;31m#convert to km => m\u001b[0m\u001b[0;34m\u001b[0m\u001b[0;34m\u001b[0m\u001b[0m\n\u001b[1;32m      4\u001b[0m \u001b[0;34m\u001b[0m\u001b[0m\n\u001b[0;32m----> 5\u001b[0;31m \u001b[0mprint\u001b[0m\u001b[0;34m(\u001b[0m\u001b[0mradius_of_mars\u001b[0m\u001b[0;34m)\u001b[0m\u001b[0;34m\u001b[0m\u001b[0;34m\u001b[0m\u001b[0m\n\u001b[0m\u001b[1;32m      6\u001b[0m \u001b[0;34m\u001b[0m\u001b[0m\n\u001b[1;32m      7\u001b[0m \u001b[0mleft\u001b[0m \u001b[0;34m=\u001b[0m \u001b[0;34m-\u001b[0m\u001b[0;34m(\u001b[0m\u001b[0mG\u001b[0m\u001b[0;34m*\u001b[0m\u001b[0mM\u001b[0m\u001b[0;34m)\u001b[0m\u001b[0;34m/\u001b[0m\u001b[0mR\u001b[0m \u001b[0;34m+\u001b[0m \u001b[0;34m(\u001b[0m\u001b[0;36m1\u001b[0m\u001b[0;34m/\u001b[0m\u001b[0;36m2\u001b[0m\u001b[0;34m)\u001b[0m\u001b[0;34m*\u001b[0m\u001b[0mpow\u001b[0m\u001b[0;34m(\u001b[0m\u001b[0mC\u001b[0m\u001b[0;34m,\u001b[0m\u001b[0;36m2\u001b[0m\u001b[0;34m)\u001b[0m\u001b[0;34m\u001b[0m\u001b[0;34m\u001b[0m\u001b[0m\n",
      "\u001b[0;31mNameError\u001b[0m: name 'radius_of_mars' is not defined"
     ]
    }
   ],
   "source": [
    "M = 6.39 * pow(10,23)\n",
    "\n",
    "R = (2106.1 * 1.60934)*1000 #convert to km => m\n",
    "\n",
    "print(radius_of_mars)\n",
    "\n",
    "left = -(G*M)/R + (1/2)*pow(C,2)\n",
    "\n",
    "left = left + (G*M)/(R+(1000*1000))\n",
    "\n",
    "left = 2*left\n",
    "\n",
    "vf = math.sqrt(left)\n",
    "\n",
    "print(vf)"
   ]
  },
  {
   "source": [
    "### Question 6"
   ],
   "cell_type": "markdown",
   "metadata": {}
  },
  {
   "cell_type": "code",
   "execution_count": 612,
   "metadata": {},
   "outputs": [
    {
     "output_type": "stream",
     "name": "stdout",
     "text": [
      "1.486e+20\n6519\n1743.8006249932796\n"
     ]
    }
   ],
   "source": [
    "import math\n",
    "\n",
    "M = (B/1000) * pow(10,20)\n",
    "R = C\n",
    "\n",
    "print(M)\n",
    "print(R)\n",
    "\n",
    "V = math.sqrt((2* G * M)/R)\n",
    "print(V)\n"
   ]
  },
  {
   "source": [
    "### Question 7"
   ],
   "cell_type": "markdown",
   "metadata": {}
  },
  {
   "cell_type": "code",
   "execution_count": 613,
   "metadata": {},
   "outputs": [
    {
     "output_type": "stream",
     "name": "stdout",
     "text": [
      "7537800.0\n324628900000000.0\n7216.941642254656\n"
     ]
    }
   ],
   "source": [
    "R = 6051.8*1000 #convert to km\n",
    "\n",
    "R = R + (B*1000)\n",
    "\n",
    "print(R)\n",
    "\n",
    "M = 4.867 * pow(10,24)\n",
    "\n",
    "print(M*G)\n",
    "\n",
    "seconds = math.sqrt((4*pow(math.pi,2)*pow(R,3))/(M*G))\n",
    "\n",
    "print(seconds)"
   ]
  },
  {
   "source": [
    "### Question 8"
   ],
   "cell_type": "markdown",
   "metadata": {}
  },
  {
   "cell_type": "code",
   "execution_count": 614,
   "metadata": {},
   "outputs": [
    {
     "output_type": "stream",
     "name": "stdout",
     "text": [
      "1.2138648855570061e+36\n15872.693533234993\n5866492856007.515\n"
     ]
    }
   ],
   "source": [
    "import math\n",
    "\n",
    "Ra = B * pow(10,8)\n",
    "Ta = 4 * pow(10,4)\n",
    "\n",
    "# Mass of the Planet\n",
    "\n",
    "Mtop = 4*pow(math.pi,2)*pow(Ra,3)\n",
    "Mbot = G*pow(Ta,2)\n",
    "\n",
    "M = (Mtop/Mbot)\n",
    "\n",
    "print(M)\n",
    "\n",
    "# Orbital Period\n",
    "\n",
    "Rb = (A*B) * pow(10,8)\n",
    "\n",
    "Ttop = 4*pow(math.pi,2)*pow(Rb,3)\n",
    "Tbot = G * M\n",
    "\n",
    "Tb = math.sqrt(Ttop/Tbot)\n",
    "\n",
    "print(Tb)\n",
    "\n",
    "# Radius of the Planet\n",
    "\n",
    "v = Ra/Ta\n",
    "\n",
    "R = (G*M) / pow(v,2)\n",
    "\n",
    "print(R)"
   ]
  }
 ]
}